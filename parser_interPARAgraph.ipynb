{
 "cells": [
  {
   "cell_type": "code",
   "execution_count": 3,
   "id": "966f3da3-220f-4050-ad44-a218daba082e",
   "metadata": {},
   "outputs": [
    {
     "name": "stdout",
     "output_type": "stream",
     "text": [
      "✅ Loaded 382 conjunctions from dictionary.\n"
     ]
    },
    {
     "name": "stderr",
     "output_type": "stream",
     "text": [
      "[nltk_data] Downloading package punkt to /Users/joselema/nltk_data...\n",
      "[nltk_data]   Package punkt is already up-to-date!\n"
     ]
    }
   ],
   "source": [
    "# STEP 1.1: Imports\n",
    "import os\n",
    "import xml.etree.ElementTree as ET\n",
    "import pandas as pd\n",
    "import nltk\n",
    "from nltk.tokenize import sent_tokenize, word_tokenize\n",
    "nltk.download(\"punkt\")\n",
    "\n",
    "# STEP 1.2: Load Halliday-based dictionary\n",
    "from halliday_dict import HALLIDAY_CONJUNCTIONS\n",
    "\n",
    "# STEP 1.3: Flatten dictionary for lookup (Halliday → flat structure)\n",
    "def flatten_conj_dict(d, path=None, result=None):\n",
    "    if result is None:\n",
    "        result = {}\n",
    "    if path is None:\n",
    "        path = []\n",
    "    if isinstance(d, dict):\n",
    "        for k, v in d.items():\n",
    "            flatten_conj_dict(v, path + [k], result)\n",
    "    elif isinstance(d, list):\n",
    "        for conj in d:\n",
    "            result[conj.lower()] = \" → \".join(path)\n",
    "    return result\n",
    "\n",
    "flat_conj_dict = flatten_conj_dict(HALLIDAY_CONJUNCTIONS)\n",
    "print(f\"✅ Loaded {len(flat_conj_dict)} conjunctions from dictionary.\")"
   ]
  },
  {
   "cell_type": "code",
   "execution_count": 4,
   "id": "690f5369-4b13-48c5-8584-02e739f9f8e8",
   "metadata": {},
   "outputs": [],
   "source": [
    "# STEP 2.1: Process a TEI XML file and return conjunction metadata at paragraph level\n",
    "def process_paragraph_conjunctions(file_path, flat_conj_dict):\n",
    "    try:\n",
    "        tree = ET.parse(file_path)\n",
    "        root = tree.getroot()\n",
    "        ns = {'tei': 'http://www.tei-c.org/ns/1.0'}\n",
    "\n",
    "        # STEP 2.2: Extract and clean all <p> paragraph text\n",
    "        paragraphs = root.findall(\".//tei:text//tei:p\", ns)\n",
    "\n",
    "        def get_text_recursive(p):\n",
    "            return \"\".join(p.itertext()).strip()\n",
    "\n",
    "        clean_paragraphs = [get_text_recursive(p) for p in paragraphs if get_text_recursive(p)]\n",
    "\n",
    "        # STEP 2.3: Initialize counters\n",
    "        total_paragraphs = len(clean_paragraphs)\n",
    "        total_words = sum(len(p.split()) for p in clean_paragraphs)\n",
    "        para_conj_count = 0\n",
    "        category_counts = {}\n",
    "\n",
    "        # STEP 2.4: Scan each paragraph's first sentence\n",
    "        for paragraph in clean_paragraphs:\n",
    "            if paragraph.strip():\n",
    "                first_sent = sent_tokenize(paragraph)[0].strip().lower()\n",
    "                for conj, category in flat_conj_dict.items():\n",
    "                    if first_sent.startswith(conj):\n",
    "                        para_conj_count += 1\n",
    "                        tag = category + \" → Paragraph\"\n",
    "                        category_counts[tag] = category_counts.get(tag, 0) + 1\n",
    "                        break\n",
    "\n",
    "        # STEP 2.5: Return summary\n",
    "        return {\n",
    "            \"file_name\": os.path.basename(file_path),\n",
    "            \"total_paragraphs\": total_paragraphs,\n",
    "            \"total_words\": total_words,\n",
    "            \"para_initial_conj_total\": para_conj_count,\n",
    "            \"mean_para_conj\": round(para_conj_count / total_paragraphs, 4) if total_paragraphs else 0,\n",
    "            **category_counts\n",
    "        }\n",
    "\n",
    "    except Exception as e:\n",
    "        return {\"file_name\": os.path.basename(file_path), \"error\": str(e)}"
   ]
  },
  {
   "cell_type": "code",
   "execution_count": 5,
   "id": "dd12b201-d8af-4697-b77b-80a5acfd74e0",
   "metadata": {},
   "outputs": [],
   "source": [
    "import os\n",
    "import pandas as pd\n",
    "\n",
    "# STEP 3.1: Process all TEI files in a folder\n",
    "def batch_process_paragraph_conjunctions(folder_path, flat_conj_dict):\n",
    "    summary_data = []\n",
    "\n",
    "    for fname in os.listdir(folder_path):\n",
    "        if fname.endswith(\".xml\"):\n",
    "            fpath = os.path.join(folder_path, fname)\n",
    "            result = process_paragraph_conjunctions(fpath, flat_conj_dict)\n",
    "            summary_data.append(result)\n",
    "\n",
    "    # STEP 3.2: Convert to DataFrame\n",
    "    df_summary = pd.DataFrame(summary_data)\n",
    "\n",
    "    # STEP 3.3: Fill missing category columns with 0\n",
    "    df_summary.fillna(0, inplace=True)\n",
    "\n",
    "    return df_summary"
   ]
  },
  {
   "cell_type": "code",
   "execution_count": 7,
   "id": "13f22322-d0b9-418c-b248-828e5749b3c0",
   "metadata": {},
   "outputs": [
    {
     "name": "stdout",
     "output_type": "stream",
     "text": [
      "✅ Exported paragraph summary with interPAR column prefixes.\n"
     ]
    }
   ],
   "source": [
    "# ✅ Run on your folder\n",
    "folder_path = \"/Users/joselema/Desktop/ConjuntionArticle/Code_3_Inter_PAR/tei\"\n",
    "para_summary_df = batch_process_paragraph_conjunctions(folder_path, flat_conj_dict)\n",
    "\n",
    "# ✅ Add numbered prefix: interPAR0_file_name, interPAR1_total_paragraphs, etc.\n",
    "def prefix_para_summary_columns(df):\n",
    "    new_cols = {}\n",
    "    for i, col in enumerate(df.columns):\n",
    "        new_cols[col] = f\"interPAR{i}_{col}\"\n",
    "    return df.rename(columns=new_cols)\n",
    "\n",
    "para_summary_df_prefixed = prefix_para_summary_columns(para_summary_df)\n",
    "\n",
    "# ✅ Export CSV\n",
    "para_summary_df_prefixed.to_csv(\"paragraph_conjunction_summary.csv\", index=False)\n",
    "\n",
    "print(\"✅ Exported paragraph summary with interPAR column prefixes.\")"
   ]
  },
  {
   "cell_type": "code",
   "execution_count": 11,
   "id": "22a2dba0-7975-4e98-b53d-e4ad3ce86013",
   "metadata": {},
   "outputs": [
    {
     "data": {
      "text/plain": [
       "(2898, 37)"
      ]
     },
     "execution_count": 11,
     "metadata": {},
     "output_type": "execute_result"
    }
   ],
   "source": [
    "para_summary_df_prefixed.shape"
   ]
  },
  {
   "cell_type": "code",
   "execution_count": 17,
   "id": "60f013c3-4855-4a5c-bc6e-088dce469c51",
   "metadata": {},
   "outputs": [
    {
     "name": "stdout",
     "output_type": "stream",
     "text": [
      "✅ Inter-paragraph results merged successfully using batch_id + text_id.\n"
     ]
    }
   ],
   "source": [
    "import pandas as pd\n",
    "\n",
    "# ✅ Load inter-paragraph summary\n",
    "conj_df = pd.read_csv(\"/Users/joselema/Desktop/ConjuntionArticle/Code_3_inter_PAR/paragraph_conjunction_summary.csv\")\n",
    "\n",
    "# ✅ Load GIG metadata\n",
    "meta_df = pd.read_excel(\"/Users/joselema/Desktop/ConjuntionArticle/Code_3_inter_PAR/gig_metadata.xlsx\")\n",
    "\n",
    "# ✅ Extract batch_id and text_id from column: 'interPAR0_file_name'\n",
    "conj_df[\"batch_id\"] = conj_df[\"interPAR0_file_name\"].str.extract(r\"^(\\d+)_\")[0].astype(int)\n",
    "conj_df[\"text_id\"] = conj_df[\"interPAR0_file_name\"].str.extract(r\"_(.+)\\.xml$\")[0]\n",
    "\n",
    "# ✅ Ensure text_id in metadata is string\n",
    "meta_df[\"text_id\"] = meta_df[\"text_id\"].astype(str)\n",
    "\n",
    "# ✅ Merge using batch_id and text_id\n",
    "merged_df = pd.merge(conj_df, meta_df, on=[\"batch_id\", \"text_id\"], how=\"inner\")\n",
    "\n",
    "# ✅ Save to correct path and rename output clearly\n",
    "merged_df.to_csv(\"/Users/joselema/Desktop/ConjuntionArticle/Code_3_inter_PAR/interPAR_conj_results_merged_with_metadata.csv\", index=False)\n",
    "\n",
    "print(\"✅ Inter-paragraph results merged successfully using batch_id + text_id.\")"
   ]
  },
  {
   "cell_type": "code",
   "execution_count": 21,
   "id": "5db7591e-fb35-442d-b5b6-18d76d25ecb5",
   "metadata": {},
   "outputs": [
    {
     "data": {
      "text/plain": [
       "(2898, 54)"
      ]
     },
     "execution_count": 21,
     "metadata": {},
     "output_type": "execute_result"
    }
   ],
   "source": [
    "merged_df.shape"
   ]
  },
  {
   "cell_type": "code",
   "execution_count": null,
   "id": "319fe3aa-b875-405a-ac27-beeb20d6690f",
   "metadata": {},
   "outputs": [],
   "source": []
  }
 ],
 "metadata": {
  "kernelspec": {
   "display_name": "Python 3 (ipykernel)",
   "language": "python",
   "name": "python3"
  },
  "language_info": {
   "codemirror_mode": {
    "name": "ipython",
    "version": 3
   },
   "file_extension": ".py",
   "mimetype": "text/x-python",
   "name": "python",
   "nbconvert_exporter": "python",
   "pygments_lexer": "ipython3",
   "version": "3.12.3"
  }
 },
 "nbformat": 4,
 "nbformat_minor": 5
}
